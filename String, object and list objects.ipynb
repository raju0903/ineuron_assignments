{
 "cells": [
  {
   "cell_type": "markdown",
   "metadata": {},
   "source": [
    "## Assignment 2_1"
   ]
  },
  {
   "cell_type": "code",
   "execution_count": 9,
   "metadata": {},
   "outputs": [],
   "source": [
    "class pattern:\n",
    "    def star():\n",
    "        for i in range(4):\n",
    "            for j in range(i,5):\n",
    "                print(\" \", end= \" \")\n",
    "            for j in range(i):\n",
    "                print(\" \", end= \" \")\n",
    "            for j in range(i+1):\n",
    "                print(\"*\", end= \" \")\n",
    "            print(\"\")\n",
    "\n",
    "\n",
    "        for i in range(5):\n",
    "            for j in range(i+1):\n",
    "                print(\" \", end= \" \")\n",
    "            for j in range(i,4):\n",
    "                print(\" \", end= \" \")\n",
    "            for j in range(i,5):\n",
    "                print(\"*\", end= \" \")\n",
    "            print(\"\")"
   ]
  },
  {
   "cell_type": "code",
   "execution_count": 10,
   "metadata": {},
   "outputs": [
    {
     "name": "stdout",
     "output_type": "stream",
     "text": [
      "          * \n",
      "          * * \n",
      "          * * * \n",
      "          * * * * \n",
      "          * * * * * \n",
      "          * * * * \n",
      "          * * * \n",
      "          * * \n",
      "          * \n"
     ]
    }
   ],
   "source": [
    "pattern.star()"
   ]
  },
  {
   "cell_type": "markdown",
   "metadata": {},
   "source": [
    "## Assignment 2_2"
   ]
  },
  {
   "cell_type": "code",
   "execution_count": 11,
   "metadata": {},
   "outputs": [],
   "source": [
    "class reverse:\n",
    "    def rev_sentence():\n",
    "        word = input(\"Enter a word:\")\n",
    "        word_rev = word[::-1]\n",
    "\n",
    "        print(word_rev)"
   ]
  },
  {
   "cell_type": "code",
   "execution_count": 12,
   "metadata": {},
   "outputs": [
    {
     "name": "stdout",
     "output_type": "stream",
     "text": [
      "Enter a word:ineuron\n",
      "norueni\n"
     ]
    }
   ],
   "source": [
    "reverse.rev_sentence()"
   ]
  },
  {
   "cell_type": "code",
   "execution_count": null,
   "metadata": {},
   "outputs": [],
   "source": []
  }
 ],
 "metadata": {
  "kernelspec": {
   "display_name": "Python 3",
   "language": "python",
   "name": "python3"
  },
  "language_info": {
   "codemirror_mode": {
    "name": "ipython",
    "version": 3
   },
   "file_extension": ".py",
   "mimetype": "text/x-python",
   "name": "python",
   "nbconvert_exporter": "python",
   "pygments_lexer": "ipython3",
   "version": "3.8.5"
  }
 },
 "nbformat": 4,
 "nbformat_minor": 4
}
