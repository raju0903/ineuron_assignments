{
 "cells": [
  {
   "cell_type": "markdown",
   "metadata": {},
   "source": [
    "## Assignment 4_1_1"
   ]
  },
  {
   "cell_type": "code",
   "execution_count": null,
   "metadata": {},
   "outputs": [],
   "source": [
    "class triangle:\n",
    "    def __init__(self, *args):\n",
    "        while True:\n",
    "            try:\n",
    "                self.a = float(input(\"Enter first side:\"))\n",
    "                break\n",
    "            except ValueError:\n",
    "                print(\"Sorry, I didn't understand that.\")\n",
    "                continue\n",
    "                \n",
    "        while True:\n",
    "            try:\n",
    "                self.b = float(input(\"Enter second side:\"))\n",
    "                break\n",
    "            except ValueError:\n",
    "                print(\"Sorry, I didn't understand that.\")\n",
    "                continue\n",
    "                \n",
    "        while True:\n",
    "            try:\n",
    "                self.c = float(input(\"Enter third side:\"))\n",
    "                break\n",
    "            except ValueError:\n",
    "                print(\"Sorry, I didn't understand that.\")\n",
    "                continue\n",
    "        \n",
    "    def area(self, *args):\n",
    "        s = (self.a + self.b + self.c)*0.5\n",
    "        return (s*(s-self.a)*(s-self.b)*(s-self.c)) ** 0.5"
   ]
  },
  {
   "cell_type": "code",
   "execution_count": 71,
   "metadata": {},
   "outputs": [
    {
     "name": "stdout",
     "output_type": "stream",
     "text": [
      "Enter first side:4\n",
      "Enter second side:5\n",
      "Enter third side:sasa\n",
      "Sorry, I didn't understand that.\n",
      "Enter third side:aA\n",
      "Sorry, I didn't understand that.\n",
      "Enter third side:Aa\n",
      "Sorry, I didn't understand that.\n",
      "Enter third side:6\n"
     ]
    }
   ],
   "source": [
    "t = triangle()"
   ]
  },
  {
   "cell_type": "code",
   "execution_count": 72,
   "metadata": {},
   "outputs": [
    {
     "data": {
      "text/plain": [
       "9.921567416492215"
      ]
     },
     "execution_count": 72,
     "metadata": {},
     "output_type": "execute_result"
    }
   ],
   "source": [
    "t.area()"
   ]
  },
  {
   "cell_type": "markdown",
   "metadata": {},
   "source": [
    "## Assignment 4_1_2"
   ]
  },
  {
   "cell_type": "code",
   "execution_count": null,
   "metadata": {},
   "outputs": [],
   "source": []
  },
  {
   "cell_type": "code",
   "execution_count": null,
   "metadata": {},
   "outputs": [],
   "source": []
  },
  {
   "cell_type": "code",
   "execution_count": 165,
   "metadata": {},
   "outputs": [],
   "source": [
    "def filter_long_words(words, n):  \n",
    "    word_len = []  \n",
    "    txt = words.split(\" \")  \n",
    "    for x in txt:  \n",
    "        if len(x) > n:  \n",
    "            word_len.append(x)  \n",
    "    return word_len"
   ]
  },
  {
   "cell_type": "code",
   "execution_count": 166,
   "metadata": {},
   "outputs": [
    {
     "data": {
      "text/plain": [
       "['dreams', 'come', 'true,', 'have', 'courage', 'pursue', 'them']"
      ]
     },
     "execution_count": 166,
     "metadata": {},
     "output_type": "execute_result"
    }
   ],
   "source": [
    "filter_long_words(\"All our dreams can come true, if we have the courage to pursue them\",3)"
   ]
  },
  {
   "cell_type": "code",
   "execution_count": null,
   "metadata": {},
   "outputs": [],
   "source": []
  },
  {
   "cell_type": "code",
   "execution_count": null,
   "metadata": {},
   "outputs": [],
   "source": []
  },
  {
   "cell_type": "code",
   "execution_count": null,
   "metadata": {},
   "outputs": [],
   "source": []
  },
  {
   "cell_type": "code",
   "execution_count": null,
   "metadata": {},
   "outputs": [],
   "source": []
  },
  {
   "cell_type": "markdown",
   "metadata": {},
   "source": [
    "## Assignment_4_2_1"
   ]
  },
  {
   "cell_type": "code",
   "execution_count": 112,
   "metadata": {},
   "outputs": [],
   "source": [
    "def length_of_list_wrods():\n",
    "    l = []\n",
    "    while True:\n",
    "        word = input(\"Enter your words: \")\n",
    "        \n",
    "# Creates a list which takes elements untill user types \"done\"\n",
    "        if word == \"done\":\n",
    "            l.append(word)\n",
    "            break\n",
    "        else:\n",
    "            l.append(word)\n",
    "            continue\n",
    "\n",
    "    length = [len(i) for i in l]\n",
    "    print(length)"
   ]
  },
  {
   "cell_type": "code",
   "execution_count": 113,
   "metadata": {},
   "outputs": [
    {
     "name": "stdout",
     "output_type": "stream",
     "text": [
      "Enter your words: dsdwed\n",
      "Enter your words: ddsd\n",
      "Enter your words: \n",
      "Enter your words: \n",
      "Enter your words: dsdw\n",
      "Enter your words: fdw\n",
      "Enter your words: sqwq\n",
      "Enter your words: dw\n",
      "Enter your words: d\n",
      "Enter your words: done\n",
      "[6, 4, 0, 0, 4, 3, 4, 2, 1, 4]\n"
     ]
    }
   ],
   "source": [
    "length_of_list_wrods()"
   ]
  },
  {
   "cell_type": "markdown",
   "metadata": {},
   "source": [
    "## Assignment 4_2_2"
   ]
  },
  {
   "cell_type": "code",
   "execution_count": null,
   "metadata": {},
   "outputs": [],
   "source": [
    "def isVowel(char):\n",
    "    vowel = [\"a\", \"e\", \"i\", \"o\", \"u\"]\n",
    "    return char.lower() in vowel"
   ]
  },
  {
   "cell_type": "code",
   "execution_count": 111,
   "metadata": {},
   "outputs": [
    {
     "data": {
      "text/plain": [
       "True"
      ]
     },
     "execution_count": 111,
     "metadata": {},
     "output_type": "execute_result"
    }
   ],
   "source": [
    "isVowel(\"a\")"
   ]
  },
  {
   "cell_type": "code",
   "execution_count": null,
   "metadata": {},
   "outputs": [],
   "source": []
  },
  {
   "cell_type": "code",
   "execution_count": null,
   "metadata": {},
   "outputs": [],
   "source": []
  },
  {
   "cell_type": "code",
   "execution_count": null,
   "metadata": {},
   "outputs": [],
   "source": []
  },
  {
   "cell_type": "code",
   "execution_count": null,
   "metadata": {},
   "outputs": [],
   "source": []
  },
  {
   "cell_type": "code",
   "execution_count": 96,
   "metadata": {},
   "outputs": [],
   "source": []
  },
  {
   "cell_type": "code",
   "execution_count": null,
   "metadata": {},
   "outputs": [],
   "source": []
  }
 ],
 "metadata": {
  "kernelspec": {
   "display_name": "Python 3",
   "language": "python",
   "name": "python3"
  },
  "language_info": {
   "codemirror_mode": {
    "name": "ipython",
    "version": 3
   },
   "file_extension": ".py",
   "mimetype": "text/x-python",
   "name": "python",
   "nbconvert_exporter": "python",
   "pygments_lexer": "ipython3",
   "version": "3.8.5"
  }
 },
 "nbformat": 4,
 "nbformat_minor": 4
}
